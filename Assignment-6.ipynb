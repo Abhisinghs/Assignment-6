{
 "cells": [
  {
   "cell_type": "code",
   "execution_count": null,
   "id": "f47cc40b-25bf-410a-b78c-cd3cfe0dd4a3",
   "metadata": {},
   "outputs": [],
   "source": [
    "#Answer-1\n",
    "   class is a blue print of an object.\n",
    "   class is a user defined data type .\n",
    "   class is used to give structue of data so we can use efficiently.\n",
    "   class is defined using class keyword.\n",
    "\n",
    "   object is identifiable entity.\n",
    "    object is a instacne of class.\n",
    "    it is a real world entity .\n",
    "    like car is a object, you and me also a object .\n",
    "    \n",
    "    we are also a object and we have different behaviour and property."
   ]
  },
  {
   "cell_type": "code",
   "execution_count": 39,
   "id": "929c68c6-7e61-47e1-91d1-61d837f91e3a",
   "metadata": {},
   "outputs": [],
   "source": [
    "#example of class and object \n",
    "\n",
    "class Human:\n",
    "    def identity(self,name,height,weight,gender):\n",
    "        Name=name\n",
    "        self.Height=height\n",
    "        Weight=weight\n",
    "        Gender=gender"
   ]
  },
  {
   "cell_type": "code",
   "execution_count": 3,
   "id": "ec56f6fe-eee0-4570-abf1-373b496f6605",
   "metadata": {},
   "outputs": [],
   "source": [
    "Abhishek= Human()  #create a object of class Human"
   ]
  },
  {
   "cell_type": "code",
   "execution_count": 5,
   "id": "bc49fbd6-f31a-49c8-beba-b96d70b1c198",
   "metadata": {},
   "outputs": [],
   "source": [
    "Abhishek.identity(\"abhi\",5.8,62,\"Male\") #access the method "
   ]
  },
  {
   "cell_type": "code",
   "execution_count": 36,
   "id": "1eea0b0d-6b18-4dbd-93c8-738dbbb41698",
   "metadata": {},
   "outputs": [
    {
     "data": {
      "text/plain": [
       "'abhi'"
      ]
     },
     "execution_count": 36,
     "metadata": {},
     "output_type": "execute_result"
    }
   ],
   "source": [
    "Abhishek.Name          #access the attribute of class"
   ]
  },
  {
   "cell_type": "code",
   "execution_count": null,
   "id": "e5510b6a-fc82-4e76-83b1-b7507401cff8",
   "metadata": {},
   "outputs": [],
   "source": [
    "#Answer-2\n",
    " \n",
    "    oop's stands for object oriented programming\n",
    "    basically four main piller of oop's is \n",
    "    1.Inheritance (inherit property of parent to child class)\n",
    "    2.Encapsulation  (wrapping up of data)\n",
    "    3.Polymorphism (one to many form)\n",
    "    4.Abstraction (hiding of data)"
   ]
  },
  {
   "cell_type": "code",
   "execution_count": null,
   "id": "950c1714-127c-4eb4-a6b2-c39f5ca06951",
   "metadata": {},
   "outputs": [],
   "source": [
    "#Answer-3\n",
    "    \n",
    "    __init__ () function is called a constructor \n",
    "    this method call every time when object is create of a class\n",
    "    due to this method we no need to call this method is called automatically"
   ]
  },
  {
   "cell_type": "code",
   "execution_count": 34,
   "id": "f8ca5f5a-02d1-49e1-9035-bf004cb0f588",
   "metadata": {},
   "outputs": [
    {
     "name": "stdout",
     "output_type": "stream",
     "text": [
      "Hello, my name is abhi\n"
     ]
    }
   ],
   "source": [
    "#example of __init__()method\n",
    "\n",
    "class Human:\n",
    " \n",
    "    # init method or constructor\n",
    "    def __init__(self, name):\n",
    "        self.name = name\n",
    " \n",
    "    # Sample Method\n",
    "    def say_hi(self):\n",
    "        print('Hello, my name is', self.name)\n",
    " \n",
    " \n",
    "p = Human('abhi')\n",
    "p.say_hi()\n",
    "    \n",
    "        "
   ]
  },
  {
   "cell_type": "code",
   "execution_count": null,
   "id": "a81f000e-29e4-40bd-8552-52248a301d5f",
   "metadata": {},
   "outputs": [],
   "source": [
    "#answer-4\n",
    "  \n",
    "    self is first argument to be passed in constructor and instance method \n",
    "    self must be provided first parameter of method is understand for me."
   ]
  },
  {
   "cell_type": "code",
   "execution_count": null,
   "id": "6557e114-296f-4d21-ae7b-cf62f3593f4d",
   "metadata": {},
   "outputs": [],
   "source": [
    "#answer-5\n",
    "\n",
    "Inheritance can be defined as when parent class property are inherited by the child class is called a \n",
    "Inheritance .\n",
    "type of Inheritance\n",
    "1.single\n",
    "2.multilevel\n",
    "3.multiple\n",
    "4.heirarichal\n",
    "5.hybrid"
   ]
  },
  {
   "cell_type": "code",
   "execution_count": 45,
   "id": "12ee04a5-2c43-4ecc-8249-df977cd75550",
   "metadata": {},
   "outputs": [
    {
     "name": "stdout",
     "output_type": "stream",
     "text": [
      "class parent\n",
      "class parent\n"
     ]
    }
   ],
   "source": [
    "# single level\n",
    " \n",
    "class parent:\n",
    "    def fun(self):\n",
    "        print(\"class parent\")\n",
    "        \n",
    "class child(parent):\n",
    "    def fun1(self):\n",
    "        print(\"class child\")\n",
    "ob = parent()\n",
    "ob1=child()\n",
    "ob.fun()\n",
    "ob1.fun()"
   ]
  },
  {
   "cell_type": "code",
   "execution_count": 50,
   "id": "6fbe5cb2-5722-41b9-9f77-385f8ef52406",
   "metadata": {},
   "outputs": [
    {
     "name": "stdout",
     "output_type": "stream",
     "text": [
      "class A\n",
      "class A\n",
      "class B\n"
     ]
    }
   ],
   "source": [
    "#multiple inheritance\n",
    "\n",
    "class A:\n",
    "    def fun(self):\n",
    "        print(\"class A\")\n",
    "\n",
    "class B:\n",
    "    def fun1(self):\n",
    "        print(\"class B\")\n",
    "        \n",
    "class C(A,B): \n",
    "    def fun2(self):\n",
    "        print(\"class C\")\n",
    "        \n",
    "ob= A()\n",
    "ob1=B()\n",
    "ob2=C()\n",
    "\n",
    "ob.fun()\n",
    "ob2.fun()\n",
    "ob2.fun1()\n"
   ]
  },
  {
   "cell_type": "code",
   "execution_count": 53,
   "id": "2e8d3792-2466-441c-aa93-a1d1a9f94be2",
   "metadata": {},
   "outputs": [
    {
     "name": "stdout",
     "output_type": "stream",
     "text": [
      "class A\n",
      "class A\n",
      "class B\n"
     ]
    }
   ],
   "source": [
    "#multilevel\n",
    "\n",
    "class A:\n",
    "    def fun(self):\n",
    "        print(\"class A\")\n",
    "\n",
    "class B(A):\n",
    "    def fun1(self):\n",
    "        print(\"class B\")\n",
    "        \n",
    "class C(B): \n",
    "    def fun2(self):\n",
    "        print(\"class C\")\n",
    "        \n",
    "ob= A()\n",
    "ob1=B()\n",
    "ob2=C()\n",
    "\n",
    "ob1.fun()\n",
    "ob2.fun()\n",
    "ob2.fun1()"
   ]
  },
  {
   "cell_type": "code",
   "execution_count": 55,
   "id": "e4884cb3-719d-47b4-9454-1922e278c247",
   "metadata": {},
   "outputs": [
    {
     "name": "stdout",
     "output_type": "stream",
     "text": [
      "class A\n",
      "class A\n",
      "class A\n"
     ]
    }
   ],
   "source": [
    "#heirarichal\n",
    "\n",
    "class A:\n",
    "    def fun(self):\n",
    "        print(\"class A\")\n",
    "\n",
    "class B(A):\n",
    "    def fun1(self):\n",
    "        print(\"class B\")\n",
    "        \n",
    "class C(A): \n",
    "    def fun2(self):\n",
    "        print(\"class C\")\n",
    "        \n",
    "ob= A()\n",
    "ob1=B()\n",
    "ob2=C()\n",
    "\n",
    "ob.fun()\n",
    "ob1.fun()\n",
    "ob2.fun()"
   ]
  },
  {
   "cell_type": "code",
   "execution_count": 57,
   "id": "ad351b6a-18cb-4247-964c-10b36980a623",
   "metadata": {},
   "outputs": [
    {
     "name": "stdout",
     "output_type": "stream",
     "text": [
      "class A\n",
      "class A\n",
      "class B\n",
      "class A\n"
     ]
    }
   ],
   "source": [
    "#hybrid \n",
    "\n",
    "class A:\n",
    "    def fun(self):                      #single level\n",
    "        print(\"class A\")\n",
    "\n",
    "class B(A):\n",
    "    def fun1(self):                     #single level\n",
    "        print(\"class B\")\n",
    "        \n",
    "class C(B): \n",
    "    def fun2(self):                       #single level\n",
    "        print(\"class C\")\n",
    "        \n",
    "class D:\n",
    "    def fun3(self):                     #multiple \n",
    "        print(\"class D\")\n",
    "\n",
    "class E(C,D):\n",
    "    def fun4(self):                        #multiple\n",
    "        print(\"class E\")\n",
    "        \n",
    "ob= A()\n",
    "ob1=B()\n",
    "ob2=C()\n",
    "o3= D()\n",
    "ob4=E()\n",
    "\n",
    "ob.fun()\n",
    "ob2.fun()\n",
    "ob2.fun1()\n",
    "ob4.fun()       #object of class E can access the "
   ]
  },
  {
   "cell_type": "code",
   "execution_count": null,
   "id": "90bd36d9-1dd2-4a2f-b3b3-25aa3d0cecb0",
   "metadata": {},
   "outputs": [],
   "source": []
  }
 ],
 "metadata": {
  "kernelspec": {
   "display_name": "Python 3 (ipykernel)",
   "language": "python",
   "name": "python3"
  },
  "language_info": {
   "codemirror_mode": {
    "name": "ipython",
    "version": 3
   },
   "file_extension": ".py",
   "mimetype": "text/x-python",
   "name": "python",
   "nbconvert_exporter": "python",
   "pygments_lexer": "ipython3",
   "version": "3.10.8"
  }
 },
 "nbformat": 4,
 "nbformat_minor": 5
}
